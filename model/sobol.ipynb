{
 "cells": [
  {
   "cell_type": "code",
   "execution_count": 4,
   "metadata": {},
   "outputs": [],
   "source": [
    "from IPython.display import clear_output\n",
    "import SALib\n",
    "from SALib.sample import saltelli\n",
    "from mesa.batchrunner import BatchRunner\n",
    "from SALib.analyze import sobol\n",
    "import pandas as pd\n",
    "import numpy as np\n",
    "import matplotlib.pyplot as plt\n",
    "from itertools import combinations\n",
    "from model import *\n",
    "import numpy as np\n",
    "import matplotlib.pyplot as plt\n",
    "from tqdm import tqdm\n",
    "from pprint import pprint\n",
    "import time\n",
    "import copy\n",
    "%matplotlib inline"
   ]
  },
  {
   "cell_type": "code",
   "execution_count": 34,
   "metadata": {},
   "outputs": [],
   "source": [
    "problem = {\n",
    "    'num_vars': 6,\n",
    "    'names': [\n",
    "     'max_eff', \n",
    "     'eutax',\n",
    "     'neighbor_influence',\n",
    "     'tax_influence',\n",
    "     'member_trade_multiplier',\n",
    "     'tax_distribution'],\n",
    "    #'bounds': [[0, 2], [0.1, 0.6], [0, 0.2], [0, 0.2], [0.9, 2], [0.8, 1.2]]\n",
    "    'bounds': [[0, 5], [0, 1], [0, 1], [0, 1], [0.1, 5], [0.1, 3]]\n",
    "}\n",
    "\n",
    "#international_trade, max_eff, eutax, neighbor_influence,\n",
    "#tax_influence, member_trade_multiplier, randomness, eu_strategy):\n",
    "# Set the repetitions, the amount of steps, and the amount of distinct values per variable\n",
    "replicates = 1\n",
    "max_steps = 5\n",
    "distinct_samples = 800\n",
    "\n",
    "# Set the outputs\n",
    "\n",
    "# We get all our samples here\n",
    "param_values = saltelli.sample(problem, distinct_samples, calc_second_order= False)\n",
    "# READ NOTE BELOW CODE\n",
    "\n",
    "count = 0\n",
    "samples = pd.DataFrame(data=param_values,\n",
    "                       columns=[ 'max_eff', 'eutax','neighbor_influence',\n",
    "                                'tax_influence','member_trade_multiplier','tax_distribution'])\n",
    "\n",
    "samples.to_csv('out.csv')"
   ]
  },
  {
   "cell_type": "code",
   "execution_count": 35,
   "metadata": {},
   "outputs": [
    {
     "output_type": "execute_result",
     "data": {
      "text/plain": "       max_eff     eutax  neighbor_influence  tax_influence  \\\n0     1.098633  0.096680            0.518555       0.676758   \n1     0.229492  0.096680            0.518555       0.676758   \n2     1.098633  0.899414            0.518555       0.676758   \n3     1.098633  0.096680            0.500977       0.676758   \n4     1.098633  0.096680            0.518555       0.069336   \n...        ...       ...                 ...            ...   \n6395  0.646973  0.998535            0.230957       0.917480   \n6396  0.646973  0.998535            0.294434       0.785645   \n6397  0.646973  0.998535            0.294434       0.917480   \n6398  0.646973  0.998535            0.294434       0.917480   \n6399  1.818848  0.520020            0.230957       0.785645   \n\n      member_trade_multiplier  tax_distribution  \n0                    1.473340          2.730957  \n1                    1.473340          2.730957  \n2                    1.473340          2.730957  \n3                    1.473340          2.730957  \n4                    1.473340          2.730957  \n...                       ...               ...  \n6395                 0.643115          0.681982  \n6396                 0.643115          0.681982  \n6397                 4.935400          0.681982  \n6398                 0.643115          2.746533  \n6399                 4.935400          2.746533  \n\n[6400 rows x 6 columns]",
      "text/html": "<div>\n<style scoped>\n    .dataframe tbody tr th:only-of-type {\n        vertical-align: middle;\n    }\n\n    .dataframe tbody tr th {\n        vertical-align: top;\n    }\n\n    .dataframe thead th {\n        text-align: right;\n    }\n</style>\n<table border=\"1\" class=\"dataframe\">\n  <thead>\n    <tr style=\"text-align: right;\">\n      <th></th>\n      <th>max_eff</th>\n      <th>eutax</th>\n      <th>neighbor_influence</th>\n      <th>tax_influence</th>\n      <th>member_trade_multiplier</th>\n      <th>tax_distribution</th>\n    </tr>\n  </thead>\n  <tbody>\n    <tr>\n      <th>0</th>\n      <td>1.098633</td>\n      <td>0.096680</td>\n      <td>0.518555</td>\n      <td>0.676758</td>\n      <td>1.473340</td>\n      <td>2.730957</td>\n    </tr>\n    <tr>\n      <th>1</th>\n      <td>0.229492</td>\n      <td>0.096680</td>\n      <td>0.518555</td>\n      <td>0.676758</td>\n      <td>1.473340</td>\n      <td>2.730957</td>\n    </tr>\n    <tr>\n      <th>2</th>\n      <td>1.098633</td>\n      <td>0.899414</td>\n      <td>0.518555</td>\n      <td>0.676758</td>\n      <td>1.473340</td>\n      <td>2.730957</td>\n    </tr>\n    <tr>\n      <th>3</th>\n      <td>1.098633</td>\n      <td>0.096680</td>\n      <td>0.500977</td>\n      <td>0.676758</td>\n      <td>1.473340</td>\n      <td>2.730957</td>\n    </tr>\n    <tr>\n      <th>4</th>\n      <td>1.098633</td>\n      <td>0.096680</td>\n      <td>0.518555</td>\n      <td>0.069336</td>\n      <td>1.473340</td>\n      <td>2.730957</td>\n    </tr>\n    <tr>\n      <th>...</th>\n      <td>...</td>\n      <td>...</td>\n      <td>...</td>\n      <td>...</td>\n      <td>...</td>\n      <td>...</td>\n    </tr>\n    <tr>\n      <th>6395</th>\n      <td>0.646973</td>\n      <td>0.998535</td>\n      <td>0.230957</td>\n      <td>0.917480</td>\n      <td>0.643115</td>\n      <td>0.681982</td>\n    </tr>\n    <tr>\n      <th>6396</th>\n      <td>0.646973</td>\n      <td>0.998535</td>\n      <td>0.294434</td>\n      <td>0.785645</td>\n      <td>0.643115</td>\n      <td>0.681982</td>\n    </tr>\n    <tr>\n      <th>6397</th>\n      <td>0.646973</td>\n      <td>0.998535</td>\n      <td>0.294434</td>\n      <td>0.917480</td>\n      <td>4.935400</td>\n      <td>0.681982</td>\n    </tr>\n    <tr>\n      <th>6398</th>\n      <td>0.646973</td>\n      <td>0.998535</td>\n      <td>0.294434</td>\n      <td>0.917480</td>\n      <td>0.643115</td>\n      <td>2.746533</td>\n    </tr>\n    <tr>\n      <th>6399</th>\n      <td>1.818848</td>\n      <td>0.520020</td>\n      <td>0.230957</td>\n      <td>0.785645</td>\n      <td>4.935400</td>\n      <td>2.746533</td>\n    </tr>\n  </tbody>\n</table>\n<p>6400 rows × 6 columns</p>\n</div>"
     },
     "metadata": {},
     "execution_count": 35
    }
   ],
   "source": [
    "samples"
   ]
  },
  {
   "cell_type": "code",
   "execution_count": 36,
   "metadata": {},
   "outputs": [
    {
     "output_type": "stream",
     "name": "stdout",
     "text": "Index(['Run', 'international_trade', 'max_eff', 'eutax', 'neighbor_influence',\n       'tax_influence', 'member_trade_multiplier', 'tax_distribution',\n       'member_count', 'other_count', 'average_cooperativeness',\n       'other_wealth', 'total_wealth', 'member_wealth', 'other_eff',\n       'total_eff', 'member_eff', 'gini_coefficient',\n       'stdev_agent_cooperativeness'],\n      dtype='object')\n"
    },
    {
     "output_type": "execute_result",
     "data": {
      "text/plain": "       Run  international_trade   max_eff     eutax  neighbor_influence  \\\n0     4656                False  1.223633  0.139307            0.027246   \n1     5238                False  1.395508  0.276025            0.094434   \n2     2619                False  0.233398  0.435693            0.068652   \n3     5529                False  0.543945  0.406885            0.104590   \n4     2910                False  0.749023  0.478662            0.141504   \n...    ...                  ...       ...       ...                 ...   \n6395  3198                False  0.405273  0.548975            0.125879   \n6396  1744                False  1.541992  0.137842            0.134082   \n6397  3199                False  0.362305  0.193506            0.076465   \n6398  1745                False  0.084961  0.137842            0.134082   \n6399  3200                False  0.280273  0.142725            0.038379   \n\n      tax_influence  member_trade_multiplier  tax_distribution  member_count  \\\n0          0.172949                 1.930713          0.832617         179.0   \n1          0.165137                 1.526807          0.875195          83.0   \n2          0.183691                 1.850146          0.849414         320.0   \n3          0.131543                 1.470947          0.821680          74.0   \n4          0.107129                 1.893115          0.809961         277.0   \n...             ...                      ...               ...           ...   \n6395       0.179004                 1.600928          1.028711           1.0   \n6396       0.171582                 0.967139          1.111133           0.0   \n6397       0.019824                 1.488135          1.028711         218.0   \n6398       0.171582                 0.967139          1.111133           0.0   \n6399       0.141504                 0.982178          1.183789           0.0   \n\n      other_count  average_cooperativeness  other_wealth  total_wealth  \\\n0           141.0                 0.119061  35067.971926  29823.045405   \n1           237.0                -0.481250  31604.939609  27911.452068   \n2             0.0                 1.000000      0.000000  35615.459064   \n3           246.0                -0.532363  27354.180285  26431.771615   \n4            43.0                 0.735052  26092.948678  34647.152312   \n...           ...                      ...           ...           ...   \n6395        319.0                -0.993750  25538.908712  25593.676530   \n6396        320.0                -1.000000  27969.518045  27969.518045   \n6397        102.0                 0.354377  25313.565051  46501.568992   \n6398        320.0                -1.000000  24651.436119  24651.436119   \n6399        320.0                -1.000000  24225.675348  24225.675348   \n\n      member_wealth  other_eff  total_eff  member_eff  gini_coefficient  \\\n0      25691.566972   2.474606   1.542380    0.808057          0.105953   \n1      17364.987645   2.167158   1.719673    0.441916          0.200139   \n2      35615.459064   0.000000   1.516808    1.516808          0.000690   \n3      23365.386036   1.716316   1.512382    0.834438          0.067200   \n4      35975.061180   1.629461   1.545182    1.532099          0.040434   \n...             ...        ...        ...         ...               ...   \n6395   43064.610447   1.530513   1.534572    2.829359          0.092641   \n6396       0.000000   1.783660   1.783660    0.000000          0.230584   \n6397   56415.222212   1.560111   1.526659    1.511007          0.692553   \n6398       0.000000   1.505555   1.505555    0.000000          0.025492   \n6399       0.000000   1.463902   1.463902    0.000000          0.067503   \n\n      stdev_agent_cooperativeness  \n0                        0.985836  \n1                        0.876583  \n2                        0.000000  \n3                        0.838820  \n4                        0.646111  \n...                           ...  \n6395                     0.111629  \n6396                     0.000000  \n6397                     0.922648  \n6398                     0.000000  \n6399                     0.000000  \n\n[6400 rows x 19 columns]",
      "text/html": "<div>\n<style scoped>\n    .dataframe tbody tr th:only-of-type {\n        vertical-align: middle;\n    }\n\n    .dataframe tbody tr th {\n        vertical-align: top;\n    }\n\n    .dataframe thead th {\n        text-align: right;\n    }\n</style>\n<table border=\"1\" class=\"dataframe\">\n  <thead>\n    <tr style=\"text-align: right;\">\n      <th></th>\n      <th>Run</th>\n      <th>international_trade</th>\n      <th>max_eff</th>\n      <th>eutax</th>\n      <th>neighbor_influence</th>\n      <th>tax_influence</th>\n      <th>member_trade_multiplier</th>\n      <th>tax_distribution</th>\n      <th>member_count</th>\n      <th>other_count</th>\n      <th>average_cooperativeness</th>\n      <th>other_wealth</th>\n      <th>total_wealth</th>\n      <th>member_wealth</th>\n      <th>other_eff</th>\n      <th>total_eff</th>\n      <th>member_eff</th>\n      <th>gini_coefficient</th>\n      <th>stdev_agent_cooperativeness</th>\n    </tr>\n  </thead>\n  <tbody>\n    <tr>\n      <th>0</th>\n      <td>4656</td>\n      <td>False</td>\n      <td>1.223633</td>\n      <td>0.139307</td>\n      <td>0.027246</td>\n      <td>0.172949</td>\n      <td>1.930713</td>\n      <td>0.832617</td>\n      <td>179.0</td>\n      <td>141.0</td>\n      <td>0.119061</td>\n      <td>35067.971926</td>\n      <td>29823.045405</td>\n      <td>25691.566972</td>\n      <td>2.474606</td>\n      <td>1.542380</td>\n      <td>0.808057</td>\n      <td>0.105953</td>\n      <td>0.985836</td>\n    </tr>\n    <tr>\n      <th>1</th>\n      <td>5238</td>\n      <td>False</td>\n      <td>1.395508</td>\n      <td>0.276025</td>\n      <td>0.094434</td>\n      <td>0.165137</td>\n      <td>1.526807</td>\n      <td>0.875195</td>\n      <td>83.0</td>\n      <td>237.0</td>\n      <td>-0.481250</td>\n      <td>31604.939609</td>\n      <td>27911.452068</td>\n      <td>17364.987645</td>\n      <td>2.167158</td>\n      <td>1.719673</td>\n      <td>0.441916</td>\n      <td>0.200139</td>\n      <td>0.876583</td>\n    </tr>\n    <tr>\n      <th>2</th>\n      <td>2619</td>\n      <td>False</td>\n      <td>0.233398</td>\n      <td>0.435693</td>\n      <td>0.068652</td>\n      <td>0.183691</td>\n      <td>1.850146</td>\n      <td>0.849414</td>\n      <td>320.0</td>\n      <td>0.0</td>\n      <td>1.000000</td>\n      <td>0.000000</td>\n      <td>35615.459064</td>\n      <td>35615.459064</td>\n      <td>0.000000</td>\n      <td>1.516808</td>\n      <td>1.516808</td>\n      <td>0.000690</td>\n      <td>0.000000</td>\n    </tr>\n    <tr>\n      <th>3</th>\n      <td>5529</td>\n      <td>False</td>\n      <td>0.543945</td>\n      <td>0.406885</td>\n      <td>0.104590</td>\n      <td>0.131543</td>\n      <td>1.470947</td>\n      <td>0.821680</td>\n      <td>74.0</td>\n      <td>246.0</td>\n      <td>-0.532363</td>\n      <td>27354.180285</td>\n      <td>26431.771615</td>\n      <td>23365.386036</td>\n      <td>1.716316</td>\n      <td>1.512382</td>\n      <td>0.834438</td>\n      <td>0.067200</td>\n      <td>0.838820</td>\n    </tr>\n    <tr>\n      <th>4</th>\n      <td>2910</td>\n      <td>False</td>\n      <td>0.749023</td>\n      <td>0.478662</td>\n      <td>0.141504</td>\n      <td>0.107129</td>\n      <td>1.893115</td>\n      <td>0.809961</td>\n      <td>277.0</td>\n      <td>43.0</td>\n      <td>0.735052</td>\n      <td>26092.948678</td>\n      <td>34647.152312</td>\n      <td>35975.061180</td>\n      <td>1.629461</td>\n      <td>1.545182</td>\n      <td>1.532099</td>\n      <td>0.040434</td>\n      <td>0.646111</td>\n    </tr>\n    <tr>\n      <th>...</th>\n      <td>...</td>\n      <td>...</td>\n      <td>...</td>\n      <td>...</td>\n      <td>...</td>\n      <td>...</td>\n      <td>...</td>\n      <td>...</td>\n      <td>...</td>\n      <td>...</td>\n      <td>...</td>\n      <td>...</td>\n      <td>...</td>\n      <td>...</td>\n      <td>...</td>\n      <td>...</td>\n      <td>...</td>\n      <td>...</td>\n      <td>...</td>\n    </tr>\n    <tr>\n      <th>6395</th>\n      <td>3198</td>\n      <td>False</td>\n      <td>0.405273</td>\n      <td>0.548975</td>\n      <td>0.125879</td>\n      <td>0.179004</td>\n      <td>1.600928</td>\n      <td>1.028711</td>\n      <td>1.0</td>\n      <td>319.0</td>\n      <td>-0.993750</td>\n      <td>25538.908712</td>\n      <td>25593.676530</td>\n      <td>43064.610447</td>\n      <td>1.530513</td>\n      <td>1.534572</td>\n      <td>2.829359</td>\n      <td>0.092641</td>\n      <td>0.111629</td>\n    </tr>\n    <tr>\n      <th>6396</th>\n      <td>1744</td>\n      <td>False</td>\n      <td>1.541992</td>\n      <td>0.137842</td>\n      <td>0.134082</td>\n      <td>0.171582</td>\n      <td>0.967139</td>\n      <td>1.111133</td>\n      <td>0.0</td>\n      <td>320.0</td>\n      <td>-1.000000</td>\n      <td>27969.518045</td>\n      <td>27969.518045</td>\n      <td>0.000000</td>\n      <td>1.783660</td>\n      <td>1.783660</td>\n      <td>0.000000</td>\n      <td>0.230584</td>\n      <td>0.000000</td>\n    </tr>\n    <tr>\n      <th>6397</th>\n      <td>3199</td>\n      <td>False</td>\n      <td>0.362305</td>\n      <td>0.193506</td>\n      <td>0.076465</td>\n      <td>0.019824</td>\n      <td>1.488135</td>\n      <td>1.028711</td>\n      <td>218.0</td>\n      <td>102.0</td>\n      <td>0.354377</td>\n      <td>25313.565051</td>\n      <td>46501.568992</td>\n      <td>56415.222212</td>\n      <td>1.560111</td>\n      <td>1.526659</td>\n      <td>1.511007</td>\n      <td>0.692553</td>\n      <td>0.922648</td>\n    </tr>\n    <tr>\n      <th>6398</th>\n      <td>1745</td>\n      <td>False</td>\n      <td>0.084961</td>\n      <td>0.137842</td>\n      <td>0.134082</td>\n      <td>0.171582</td>\n      <td>0.967139</td>\n      <td>1.111133</td>\n      <td>0.0</td>\n      <td>320.0</td>\n      <td>-1.000000</td>\n      <td>24651.436119</td>\n      <td>24651.436119</td>\n      <td>0.000000</td>\n      <td>1.505555</td>\n      <td>1.505555</td>\n      <td>0.000000</td>\n      <td>0.025492</td>\n      <td>0.000000</td>\n    </tr>\n    <tr>\n      <th>6399</th>\n      <td>3200</td>\n      <td>False</td>\n      <td>0.280273</td>\n      <td>0.142725</td>\n      <td>0.038379</td>\n      <td>0.141504</td>\n      <td>0.982178</td>\n      <td>1.183789</td>\n      <td>0.0</td>\n      <td>320.0</td>\n      <td>-1.000000</td>\n      <td>24225.675348</td>\n      <td>24225.675348</td>\n      <td>0.000000</td>\n      <td>1.463902</td>\n      <td>1.463902</td>\n      <td>0.000000</td>\n      <td>0.067503</td>\n      <td>0.000000</td>\n    </tr>\n  </tbody>\n</table>\n<p>6400 rows × 19 columns</p>\n</div>"
     },
     "metadata": {},
     "execution_count": 36
    }
   ],
   "source": [
    "problem = {\n",
    "    'num_vars': 6,\n",
    "    'names': [\n",
    "     'max_eff', \n",
    "     'eutax',\n",
    "     'neighbor_influence',\n",
    "     'tax_influence',\n",
    "     'member_trade_multiplier',\n",
    "     'tax_distribution'],\n",
    "    'bounds': [[0, 2], [0.1, 0.6], [0, 0.2], [0, 0.2], [0.9, 2], [0.8, 1.2]]\n",
    "}\n",
    "data = pd.read_csv('data/data_int_off.csv')\n",
    "print(data.columns)\n",
    "#data = data['Run'].unique()\n",
    "\n",
    "data = data.loc[data['international_trade'] == False]\n",
    "data = data.drop_duplicates(subset=['Run'])\n",
    "data['gini_coefficient'] = data['gini_coefficient'].div(2)\n",
    "data.reindex()"
   ]
  },
  {
   "cell_type": "code",
   "execution_count": 45,
   "metadata": {
    "scrolled": false
   },
   "outputs": [
    {
     "output_type": "stream",
     "name": "stdout",
     "text": "Index(['Run', 'international_trade', 'max_eff', 'eutax', 'neighbor_influence',\n       'tax_influence', 'member_trade_multiplier', 'tax_distribution',\n       'member_count', 'other_count', 'average_cooperativeness',\n       'other_wealth', 'total_wealth', 'member_wealth', 'other_eff',\n       'total_eff', 'member_eff', 'gini_coefficient',\n       'stdev_agent_cooperativeness'],\n      dtype='object')\nmember_count\nother_count\naverage_cooperativeness\nother_wealth\ntotal_wealth\nmember_wealth\nother_eff\ntotal_eff\nmember_eff\ngini_coefficient\nstdev_agent_cooperativeness\n"
    }
   ],
   "source": [
    "print(data.columns)\n",
    "for val in data.columns[8:]:\n",
    "    print(val)"
   ]
  },
  {
   "cell_type": "code",
   "execution_count": 38,
   "metadata": {},
   "outputs": [],
   "source": [
    "def plot_index(s, params, i, title=''):\n",
    "    \"\"\"\n",
    "    Creates a plot for Sobol sensitivity analysis that shows the contributions\n",
    "    of each parameter to the global sensitivity.\n",
    "\n",
    "    Args:\n",
    "        s (dict): dictionary {'S#': dict, 'S#_conf': dict} of dicts that hold\n",
    "            the values for a set of parameters\n",
    "        params (list): the parameters taken from s\n",
    "        i (str): string that indicates what order the sensitivity is.\n",
    "        title (str): title for the plot\n",
    "    \"\"\"\n",
    "\n",
    "    if i == '2':\n",
    "        p = len(params)\n",
    "        params = list(combinations(params, 2))\n",
    "        indices = s['S' + i].reshape((p ** 2))\n",
    "        indices = indices[~np.isnan(indices)]\n",
    "        errors = s['S' + i + '_conf'].reshape((p ** 2))\n",
    "        errors = errors[~np.isnan(errors)]\n",
    "    else:\n",
    "        print('S' + i)\n",
    "        indices = s['S' + i]\n",
    "        errors = s['S' + i + '_conf']\n",
    "        plt.figure()\n",
    "\n",
    "    l = len(indices)\n",
    "\n",
    "    plt.title(title)\n",
    "    plt.ylim([-0.2, len(indices) - 1 + 0.2])\n",
    "    plt.yticks(range(l), params)\n",
    "    plt.errorbar(indices, range(l), xerr=errors, linestyle='None', marker='o')\n",
    "    plt.axvline(0, c='k')"
   ]
  },
  {
   "cell_type": "code",
   "execution_count": 48,
   "metadata": {},
   "outputs": [
    {
     "output_type": "stream",
     "name": "stdout",
     "text": "member_count\n"
    },
    {
     "output_type": "error",
     "ename": "RuntimeError",
     "evalue": "\n        Incorrect number of samples in model output file.\n        Confirm that calc_second_order matches option used during sampling.",
     "traceback": [
      "\u001b[1;31m---------------------------------------------------------------------------\u001b[0m",
      "\u001b[1;31mRuntimeError\u001b[0m                              Traceback (most recent call last)",
      "\u001b[1;32m<ipython-input-48-d25a1e74036e>\u001b[0m in \u001b[0;36m<module>\u001b[1;34m\u001b[0m\n\u001b[0;32m      1\u001b[0m \u001b[1;32mfor\u001b[0m \u001b[0mcol_name\u001b[0m \u001b[1;32min\u001b[0m \u001b[0mdata\u001b[0m\u001b[1;33m.\u001b[0m\u001b[0mcolumns\u001b[0m\u001b[1;33m[\u001b[0m\u001b[1;36m8\u001b[0m\u001b[1;33m:\u001b[0m\u001b[1;33m]\u001b[0m\u001b[1;33m:\u001b[0m\u001b[1;33m\u001b[0m\u001b[1;33m\u001b[0m\u001b[0m\n\u001b[0;32m      2\u001b[0m     \u001b[0mprint\u001b[0m\u001b[1;33m(\u001b[0m\u001b[0mcol_name\u001b[0m\u001b[1;33m)\u001b[0m\u001b[1;33m\u001b[0m\u001b[1;33m\u001b[0m\u001b[0m\n\u001b[1;32m----> 3\u001b[1;33m     \u001b[0mS_i\u001b[0m \u001b[1;33m=\u001b[0m \u001b[0msobol\u001b[0m\u001b[1;33m.\u001b[0m\u001b[0manalyze\u001b[0m\u001b[1;33m(\u001b[0m\u001b[0mproblem\u001b[0m\u001b[1;33m,\u001b[0m \u001b[0mdata\u001b[0m\u001b[1;33m[\u001b[0m\u001b[0mcol_name\u001b[0m\u001b[1;33m]\u001b[0m\u001b[1;33m.\u001b[0m\u001b[0mvalues\u001b[0m\u001b[1;33m,\u001b[0m \u001b[0mprint_to_console\u001b[0m\u001b[1;33m=\u001b[0m\u001b[1;32mTrue\u001b[0m\u001b[1;33m,\u001b[0m \u001b[0mcalc_second_order\u001b[0m\u001b[1;33m=\u001b[0m\u001b[1;32mTrue\u001b[0m\u001b[1;33m,\u001b[0m \u001b[0mnum_resamples\u001b[0m\u001b[1;33m=\u001b[0m \u001b[1;36m6400\u001b[0m\u001b[1;33m)\u001b[0m\u001b[1;33m\u001b[0m\u001b[1;33m\u001b[0m\u001b[0m\n\u001b[0m\u001b[0;32m      4\u001b[0m     \u001b[0mprint\u001b[0m\u001b[1;33m(\u001b[0m\u001b[0mS_i_gini\u001b[0m\u001b[1;33m)\u001b[0m\u001b[1;33m\u001b[0m\u001b[1;33m\u001b[0m\u001b[0m\n\u001b[0;32m      5\u001b[0m \u001b[1;33m\u001b[0m\u001b[0m\n",
      "\u001b[1;32m~\\anaconda3\\lib\\site-packages\\SALib\\analyze\\sobol.py\u001b[0m in \u001b[0;36manalyze\u001b[1;34m(problem, Y, calc_second_order, num_resamples, conf_level, print_to_console, parallel, n_processors, seed)\u001b[0m\n\u001b[0;32m     77\u001b[0m         \u001b[0mN\u001b[0m \u001b[1;33m=\u001b[0m \u001b[0mint\u001b[0m\u001b[1;33m(\u001b[0m\u001b[0mY\u001b[0m\u001b[1;33m.\u001b[0m\u001b[0msize\u001b[0m \u001b[1;33m/\u001b[0m \u001b[1;33m(\u001b[0m\u001b[0mD\u001b[0m \u001b[1;33m+\u001b[0m \u001b[1;36m2\u001b[0m\u001b[1;33m)\u001b[0m\u001b[1;33m)\u001b[0m\u001b[1;33m\u001b[0m\u001b[1;33m\u001b[0m\u001b[0m\n\u001b[0;32m     78\u001b[0m     \u001b[1;32melse\u001b[0m\u001b[1;33m:\u001b[0m\u001b[1;33m\u001b[0m\u001b[1;33m\u001b[0m\u001b[0m\n\u001b[1;32m---> 79\u001b[1;33m         raise RuntimeError(\"\"\"\n\u001b[0m\u001b[0;32m     80\u001b[0m         \u001b[0mIncorrect\u001b[0m \u001b[0mnumber\u001b[0m \u001b[0mof\u001b[0m \u001b[0msamples\u001b[0m \u001b[1;32min\u001b[0m \u001b[0mmodel\u001b[0m \u001b[0moutput\u001b[0m \u001b[0mfile\u001b[0m\u001b[1;33m.\u001b[0m\u001b[1;33m\u001b[0m\u001b[1;33m\u001b[0m\u001b[0m\n\u001b[0;32m     81\u001b[0m         Confirm that calc_second_order matches option used during sampling.\"\"\")\n",
      "\u001b[1;31mRuntimeError\u001b[0m: \n        Incorrect number of samples in model output file.\n        Confirm that calc_second_order matches option used during sampling."
     ]
    }
   ],
   "source": [
    "for col_name in data.columns[8:]:\n",
    "    print(col_name)\n",
    "    S_i = sobol.analyze(problem, data[col_name].values, print_to_console=True, calc_second_order=False, num_resamples= 6400)\n",
    "    print(S_i_gini)\n",
    "\n",
    "    for Si in [S_i]:\n",
    "        # First order\n",
    "        plot_index(Si, problem['names'], '1', 'First order sensitivity')\n",
    "        plt.show()\n",
    "\n",
    "        # Total order\n",
    "        plot_index(Si, problem['names'], 'T', 'Total order sensitivity')\n",
    "        plt.show()"
   ]
  },
  {
   "cell_type": "code",
   "execution_count": null,
   "metadata": {},
   "outputs": [],
   "source": []
  },
  {
   "cell_type": "code",
   "execution_count": null,
   "metadata": {},
   "outputs": [],
   "source": []
  }
 ],
 "metadata": {
  "kernelspec": {
   "display_name": "Python 3",
   "language": "python",
   "name": "python3"
  },
  "language_info": {
   "codemirror_mode": {
    "name": "ipython",
    "version": 3
   },
   "file_extension": ".py",
   "mimetype": "text/x-python",
   "name": "python",
   "nbconvert_exporter": "python",
   "pygments_lexer": "ipython3",
   "version": "3.8.5"
  }
 },
 "nbformat": 4,
 "nbformat_minor": 4
}