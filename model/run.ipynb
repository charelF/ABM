{
 "metadata": {
  "language_info": {
   "codemirror_mode": {
    "name": "ipython",
    "version": 3
   },
   "file_extension": ".py",
   "mimetype": "text/x-python",
   "name": "python",
   "nbconvert_exporter": "python",
   "pygments_lexer": "ipython3",
   "version": "3.8.7-final"
  },
  "orig_nbformat": 2,
  "kernelspec": {
   "name": "python37764bit377pyenv4b0a637664994191944aa305dc021fa4",
   "display_name": "Python 3.7.7 64-bit ('3.7.7': pyenv)",
   "language": "python"
  }
 },
 "nbformat": 4,
 "nbformat_minor": 2,
 "cells": [
  {
   "cell_type": "code",
   "execution_count": 5,
   "metadata": {},
   "outputs": [],
   "source": [
    "from model import *"
   ]
  },
  {
   "cell_type": "code",
   "execution_count": 6,
   "metadata": {},
   "outputs": [],
   "source": [
    "model = RegionModel(1,1)\n",
    "agent = model.grid.agents[0]"
   ]
  },
  {
   "source": [
    "https://shapely.readthedocs.io/en/stable/manual.html"
   ],
   "cell_type": "markdown",
   "metadata": {}
  },
  {
   "cell_type": "code",
   "execution_count": 8,
   "metadata": {},
   "outputs": [
    {
     "output_type": "execute_result",
     "data": {
      "text/plain": [
       "agent.Test"
      ]
     },
     "metadata": {},
     "execution_count": 8
    }
   ],
   "source": [
    "model.grid.agents[0].test"
   ]
  },
  {
   "cell_type": "code",
   "execution_count": 3,
   "metadata": {},
   "outputs": [
    {
     "output_type": "execute_result",
     "data": {
      "text/plain": [
       "{'AT': {'aggressiveness': 0.9523289934697151,\n",
       "  'constituing_regions': 9,\n",
       "  'color': '#6462E2'},\n",
       " 'BE': {'aggressiveness': 0.3383307353689138,\n",
       "  'constituing_regions': 11,\n",
       "  'color': '#822BB8'},\n",
       " 'BG': {'aggressiveness': 0.5413181373638541,\n",
       "  'constituing_regions': 6,\n",
       "  'color': '#11C9FF'},\n",
       " 'CY': {'aggressiveness': 0.8236551720470251,\n",
       "  'constituing_regions': 1,\n",
       "  'color': '#E49D9A'},\n",
       " 'CZ': {'aggressiveness': 0.5831225918632722,\n",
       "  'constituing_regions': 8,\n",
       "  'color': '#5356DC'},\n",
       " 'CH': {'aggressiveness': 0.10918329998846732,\n",
       "  'constituing_regions': 7,\n",
       "  'color': '#11F0E0'},\n",
       " 'DE': {'aggressiveness': 0.3888906967142952,\n",
       "  'constituing_regions': 38,\n",
       "  'color': '#EC14D8'},\n",
       " 'DK': {'aggressiveness': 0.525224251218795,\n",
       "  'constituing_regions': 5,\n",
       "  'color': '#F988FF'},\n",
       " 'EE': {'aggressiveness': 0.35896486431505203,\n",
       "  'constituing_regions': 1,\n",
       "  'color': '#2A1AA0'},\n",
       " 'EL': {'aggressiveness': 0.5681981488680701,\n",
       "  'constituing_regions': 13,\n",
       "  'color': '#300A86'},\n",
       " 'ES': {'aggressiveness': 0.41116419988849706,\n",
       "  'constituing_regions': 19,\n",
       "  'color': '#96DFD7'},\n",
       " 'FR': {'aggressiveness': 0.32299320572472345,\n",
       "  'constituing_regions': 27,\n",
       "  'color': '#5DC116'},\n",
       " 'HR': {'aggressiveness': 0.9947193741747946,\n",
       "  'constituing_regions': 2,\n",
       "  'color': '#34B622'},\n",
       " 'FI': {'aggressiveness': 0.29342887683614494,\n",
       "  'constituing_regions': 5,\n",
       "  'color': '#336489'},\n",
       " 'HU': {'aggressiveness': 0.20195454398272394,\n",
       "  'constituing_regions': 7,\n",
       "  'color': '#55E9C'},\n",
       " 'IE': {'aggressiveness': 0.13473368272992492,\n",
       "  'constituing_regions': 2,\n",
       "  'color': '#DAABA7'},\n",
       " 'IT': {'aggressiveness': 0.3790911030226153,\n",
       "  'constituing_regions': 21,\n",
       "  'color': '#FD25EA'},\n",
       " 'LI': {'aggressiveness': 0.3716593668186091,\n",
       "  'constituing_regions': 1,\n",
       "  'color': '#FDBB3'},\n",
       " 'LT': {'aggressiveness': 0.6283823481757628,\n",
       "  'constituing_regions': 1,\n",
       "  'color': '#4CCFF8'},\n",
       " 'LU': {'aggressiveness': 0.9145208817191824,\n",
       "  'constituing_regions': 1,\n",
       "  'color': '#2BD9ED'},\n",
       " 'LV': {'aggressiveness': 0.799783555446111,\n",
       "  'constituing_regions': 1,\n",
       "  'color': '#B4D9F0'},\n",
       " 'ME': {'aggressiveness': 0.38568386355730455,\n",
       "  'constituing_regions': 1,\n",
       "  'color': '#25C821'},\n",
       " 'MK': {'aggressiveness': 0.10440841761332764,\n",
       "  'constituing_regions': 1,\n",
       "  'color': '#A1B6F'},\n",
       " 'MT': {'aggressiveness': 0.3994362309096251,\n",
       "  'constituing_regions': 1,\n",
       "  'color': '#FC22F'},\n",
       " 'NL': {'aggressiveness': 0.955084475750861,\n",
       "  'constituing_regions': 12,\n",
       "  'color': '#976178'},\n",
       " 'IS': {'aggressiveness': 0.5731429103393098,\n",
       "  'constituing_regions': 1,\n",
       "  'color': '#4DB9CA'},\n",
       " 'PL': {'aggressiveness': 0.23637136972193384,\n",
       "  'constituing_regions': 16,\n",
       "  'color': '#CAE233'},\n",
       " 'PT': {'aggressiveness': 0.516239107360935,\n",
       "  'constituing_regions': 7,\n",
       "  'color': '#8CB10C'},\n",
       " 'RO': {'aggressiveness': 0.746216867027313,\n",
       "  'constituing_regions': 8,\n",
       "  'color': '#C23E2E'},\n",
       " 'NO': {'aggressiveness': 0.7524426867908176,\n",
       "  'constituing_regions': 7,\n",
       "  'color': '#7343DE'},\n",
       " 'SE': {'aggressiveness': 0.7102411322155874,\n",
       "  'constituing_regions': 8,\n",
       "  'color': '#5775A1'},\n",
       " 'SI': {'aggressiveness': 0.9188877088665147,\n",
       "  'constituing_regions': 2,\n",
       "  'color': '#E128A8'},\n",
       " 'SK': {'aggressiveness': 0.7734448815393026,\n",
       "  'constituing_regions': 4,\n",
       "  'color': '#CFE145'},\n",
       " 'TR': {'aggressiveness': 0.46995365256064725,\n",
       "  'constituing_regions': 26,\n",
       "  'color': '#AFE99C'},\n",
       " 'UK': {'aggressiveness': 0.7760333158144836,\n",
       "  'constituing_regions': 40,\n",
       "  'color': '#85DC16'}}"
      ]
     },
     "metadata": {},
     "execution_count": 3
    }
   ],
   "source": [
    "model.countries"
   ]
  },
  {
   "cell_type": "code",
   "execution_count": 25,
   "metadata": {},
   "outputs": [
    {
     "output_type": "execute_result",
     "data": {
      "text/plain": [
       "(2463492.0552212726, 2306111.6550231343)"
      ]
     },
     "metadata": {},
     "execution_count": 25
    }
   ],
   "source": [
    "model.grid.agents[0].shape.area / 3961 , model.grid.agents[1].shape.area / 19186 "
   ]
  },
  {
   "cell_type": "code",
   "execution_count": 26,
   "metadata": {},
   "outputs": [
    {
     "output_type": "execute_result",
     "data": {
      "text/plain": [
       "0.0"
      ]
     },
     "metadata": {},
     "execution_count": 26
    }
   ],
   "source": [
    "model.grid.agents[1].shape.distance(model.grid.agents[0].shape)"
   ]
  },
  {
   "cell_type": "code",
   "execution_count": 27,
   "metadata": {},
   "outputs": [
    {
     "output_type": "execute_result",
     "data": {
      "text/plain": [
       "<shapely.geometry.point.Point at 0x7f896caf5130>"
      ],
      "image/svg+xml": "<svg xmlns=\"http://www.w3.org/2000/svg\" xmlns:xlink=\"http://www.w3.org/1999/xlink\" width=\"100.0\" height=\"100.0\" viewBox=\"1750275.688426916 6150265.61668767 2.0 2.0\" preserveAspectRatio=\"xMinYMin meet\"><g transform=\"matrix(1,0,0,-1,0,12300533.23337534)\"><circle cx=\"1750276.688426916\" cy=\"6150266.61668767\" r=\"0.06\" stroke=\"#555555\" stroke-width=\"0.02\" fill=\"#66cc99\" opacity=\"0.6\" /></g></svg>"
     },
     "metadata": {},
     "execution_count": 27
    }
   ],
   "source": [
    "model.grid.agents[1].shape.centroid"
   ]
  },
  {
   "cell_type": "code",
   "execution_count": 13,
   "metadata": {},
   "outputs": [
    {
     "output_type": "execute_result",
     "data": {
      "text/plain": [
       "{'type': 'Feature',\n",
       " 'geometry': {'type': 'Polygon',\n",
       "  'coordinates': (((17.1607975, 48.006656501),\n",
       "    (17.093074, 47.708236),\n",
       "    (16.421846, 47.66470449899998),\n",
       "    (16.652076, 47.62290350000001),\n",
       "    (16.64622, 47.446597),\n",
       "    (16.4337615, 47.35291849999997),\n",
       "    (16.508267499999985, 47.001255999),\n",
       "    (16.113849, 46.869067998999974),\n",
       "    (15.996236, 46.8353985),\n",
       "    (16.12171949999998, 46.99066649999998),\n",
       "    (16.01515849999998, 47.36712749899999),\n",
       "    (16.171769499999982, 47.4224),\n",
       "    (16.281081, 47.4551325),\n",
       "    (16.372501999999997, 47.64248549899998),\n",
       "    (16.269049499999998, 47.79640549900001),\n",
       "    (16.388891499000007, 47.88160099700001),\n",
       "    (17.066741, 48.11868149899997),\n",
       "    (17.1607975, 48.006656501)),)},\n",
       " 'properties': {'unique_id': 0,\n",
       "  'model': '<model.RegionModel object at 0x7f896cebac10>',\n",
       "  '_geom': 140228225442224,\n",
       "  'atype': None,\n",
       "  'area': 0.531457256381,\n",
       "  'NUTS_ID': 'AT11',\n",
       "  'STAT_LEVL_': 2,\n",
       "  'SHAPE_AREA': 0.531457256381,\n",
       "  'SHAPE_LEN': 4.79544853688}}"
      ]
     },
     "metadata": {},
     "execution_count": 13
    }
   ],
   "source": [
    "agent.__geo_interface__()"
   ]
  },
  {
   "cell_type": "code",
   "execution_count": 58,
   "metadata": {},
   "outputs": [
    {
     "output_type": "error",
     "ename": "KeyboardInterrupt",
     "evalue": "",
     "traceback": [
      "\u001b[0;31m---------------------------------------------------------------------------\u001b[0m",
      "\u001b[0;31mKeyboardInterrupt\u001b[0m                         Traceback (most recent call last)",
      "\u001b[0;32m<ipython-input-58-5ede456cebfe>\u001b[0m in \u001b[0;36m<module>\u001b[0;34m\u001b[0m\n\u001b[1;32m      1\u001b[0m \u001b[0mbreakpoint\u001b[0m\u001b[0;34m(\u001b[0m\u001b[0;34m)\u001b[0m\u001b[0;34m\u001b[0m\u001b[0;34m\u001b[0m\u001b[0m\n\u001b[1;32m      2\u001b[0m \u001b[0;31m# list(model.grid.get_relation(model.grid.agents[0], \"touches\"))\u001b[0m\u001b[0;34m\u001b[0m\u001b[0;34m\u001b[0m\u001b[0;34m\u001b[0m\u001b[0m\n\u001b[0;32m----> 3\u001b[0;31m \u001b[0mlist\u001b[0m\u001b[0;34m(\u001b[0m\u001b[0mmodel\u001b[0m\u001b[0;34m.\u001b[0m\u001b[0mgrid\u001b[0m\u001b[0;34m.\u001b[0m\u001b[0mget_neighbors_within_distance\u001b[0m\u001b[0;34m(\u001b[0m\u001b[0mmodel\u001b[0m\u001b[0;34m.\u001b[0m\u001b[0mgrid\u001b[0m\u001b[0;34m.\u001b[0m\u001b[0magents\u001b[0m\u001b[0;34m[\u001b[0m\u001b[0;36m0\u001b[0m\u001b[0;34m]\u001b[0m\u001b[0;34m,\u001b[0m \u001b[0;36m100\u001b[0m\u001b[0;34m)\u001b[0m\u001b[0;34m)\u001b[0m\u001b[0;34m\u001b[0m\u001b[0;34m\u001b[0m\u001b[0m\n\u001b[0m",
      "\u001b[0;32m<ipython-input-58-5ede456cebfe>\u001b[0m in \u001b[0;36m<module>\u001b[0;34m\u001b[0m\n\u001b[1;32m      1\u001b[0m \u001b[0mbreakpoint\u001b[0m\u001b[0;34m(\u001b[0m\u001b[0;34m)\u001b[0m\u001b[0;34m\u001b[0m\u001b[0;34m\u001b[0m\u001b[0m\n\u001b[1;32m      2\u001b[0m \u001b[0;31m# list(model.grid.get_relation(model.grid.agents[0], \"touches\"))\u001b[0m\u001b[0;34m\u001b[0m\u001b[0;34m\u001b[0m\u001b[0;34m\u001b[0m\u001b[0m\n\u001b[0;32m----> 3\u001b[0;31m \u001b[0mlist\u001b[0m\u001b[0;34m(\u001b[0m\u001b[0mmodel\u001b[0m\u001b[0;34m.\u001b[0m\u001b[0mgrid\u001b[0m\u001b[0;34m.\u001b[0m\u001b[0mget_neighbors_within_distance\u001b[0m\u001b[0;34m(\u001b[0m\u001b[0mmodel\u001b[0m\u001b[0;34m.\u001b[0m\u001b[0mgrid\u001b[0m\u001b[0;34m.\u001b[0m\u001b[0magents\u001b[0m\u001b[0;34m[\u001b[0m\u001b[0;36m0\u001b[0m\u001b[0;34m]\u001b[0m\u001b[0;34m,\u001b[0m \u001b[0;36m100\u001b[0m\u001b[0;34m)\u001b[0m\u001b[0;34m)\u001b[0m\u001b[0;34m\u001b[0m\u001b[0;34m\u001b[0m\u001b[0m\n\u001b[0m",
      "\u001b[0;32m_pydevd_bundle/pydevd_cython.pyx\u001b[0m in \u001b[0;36m_pydevd_bundle.pydevd_cython.SafeCallWrapper.__call__\u001b[0;34m()\u001b[0m\n",
      "\u001b[0;32m_pydevd_bundle/pydevd_cython.pyx\u001b[0m in \u001b[0;36m_pydevd_bundle.pydevd_cython.PyDBFrame.trace_dispatch\u001b[0;34m()\u001b[0m\n",
      "\u001b[0;32m_pydevd_bundle/pydevd_cython.pyx\u001b[0m in \u001b[0;36m_pydevd_bundle.pydevd_cython.PyDBFrame.trace_dispatch\u001b[0;34m()\u001b[0m\n",
      "\u001b[0;32m_pydevd_bundle/pydevd_cython.pyx\u001b[0m in \u001b[0;36m_pydevd_bundle.pydevd_cython.PyDBFrame.trace_dispatch\u001b[0;34m()\u001b[0m\n",
      "\u001b[0;32m_pydevd_bundle/pydevd_cython.pyx\u001b[0m in \u001b[0;36m_pydevd_bundle.pydevd_cython.PyDBFrame.do_wait_suspend\u001b[0;34m()\u001b[0m\n",
      "\u001b[0;32m~/.vscode/extensions/ms-python.python-2020.12.424452561/pythonFiles/lib/python/debugpy/_vendored/pydevd/pydevd.py\u001b[0m in \u001b[0;36mdo_wait_suspend\u001b[0;34m(self, thread, frame, event, arg, exception_type)\u001b[0m\n\u001b[1;32m   1853\u001b[0m \u001b[0;34m\u001b[0m\u001b[0m\n\u001b[1;32m   1854\u001b[0m             \u001b[0;32mwith\u001b[0m \u001b[0mself\u001b[0m\u001b[0;34m.\u001b[0m\u001b[0m_threads_suspended_single_notification\u001b[0m\u001b[0;34m.\u001b[0m\u001b[0mnotify_thread_suspended\u001b[0m\u001b[0;34m(\u001b[0m\u001b[0mthread_id\u001b[0m\u001b[0;34m,\u001b[0m \u001b[0mstop_reason\u001b[0m\u001b[0;34m)\u001b[0m\u001b[0;34m:\u001b[0m\u001b[0;34m\u001b[0m\u001b[0;34m\u001b[0m\u001b[0m\n\u001b[0;32m-> 1855\u001b[0;31m                 \u001b[0mkeep_suspended\u001b[0m \u001b[0;34m=\u001b[0m \u001b[0mself\u001b[0m\u001b[0;34m.\u001b[0m\u001b[0m_do_wait_suspend\u001b[0m\u001b[0;34m(\u001b[0m\u001b[0mthread\u001b[0m\u001b[0;34m,\u001b[0m \u001b[0mframe\u001b[0m\u001b[0;34m,\u001b[0m \u001b[0mevent\u001b[0m\u001b[0;34m,\u001b[0m \u001b[0marg\u001b[0m\u001b[0;34m,\u001b[0m \u001b[0msuspend_type\u001b[0m\u001b[0;34m,\u001b[0m \u001b[0mfrom_this_thread\u001b[0m\u001b[0;34m,\u001b[0m \u001b[0mframes_tracker\u001b[0m\u001b[0;34m)\u001b[0m\u001b[0;34m\u001b[0m\u001b[0;34m\u001b[0m\u001b[0m\n\u001b[0m\u001b[1;32m   1856\u001b[0m \u001b[0;34m\u001b[0m\u001b[0m\n\u001b[1;32m   1857\u001b[0m         \u001b[0mframes_list\u001b[0m \u001b[0;34m=\u001b[0m \u001b[0;32mNone\u001b[0m\u001b[0;34m\u001b[0m\u001b[0;34m\u001b[0m\u001b[0m\n",
      "\u001b[0;32m~/.vscode/extensions/ms-python.python-2020.12.424452561/pythonFiles/lib/python/debugpy/_vendored/pydevd/pydevd.py\u001b[0m in \u001b[0;36m_do_wait_suspend\u001b[0;34m(self, thread, frame, event, arg, suspend_type, from_this_thread, frames_tracker)\u001b[0m\n\u001b[1;32m   1888\u001b[0m \u001b[0;34m\u001b[0m\u001b[0m\n\u001b[1;32m   1889\u001b[0m             \u001b[0mself\u001b[0m\u001b[0;34m.\u001b[0m\u001b[0mprocess_internal_commands\u001b[0m\u001b[0;34m(\u001b[0m\u001b[0;34m)\u001b[0m\u001b[0;34m\u001b[0m\u001b[0;34m\u001b[0m\u001b[0m\n\u001b[0;32m-> 1890\u001b[0;31m             \u001b[0mtime\u001b[0m\u001b[0;34m.\u001b[0m\u001b[0msleep\u001b[0m\u001b[0;34m(\u001b[0m\u001b[0;36m0.01\u001b[0m\u001b[0;34m)\u001b[0m\u001b[0;34m\u001b[0m\u001b[0;34m\u001b[0m\u001b[0m\n\u001b[0m\u001b[1;32m   1891\u001b[0m \u001b[0;34m\u001b[0m\u001b[0m\n\u001b[1;32m   1892\u001b[0m         \u001b[0mself\u001b[0m\u001b[0;34m.\u001b[0m\u001b[0mcancel_async_evaluation\u001b[0m\u001b[0;34m(\u001b[0m\u001b[0mget_current_thread_id\u001b[0m\u001b[0;34m(\u001b[0m\u001b[0mthread\u001b[0m\u001b[0;34m)\u001b[0m\u001b[0;34m,\u001b[0m \u001b[0mstr\u001b[0m\u001b[0;34m(\u001b[0m\u001b[0mid\u001b[0m\u001b[0;34m(\u001b[0m\u001b[0mframe\u001b[0m\u001b[0;34m)\u001b[0m\u001b[0;34m)\u001b[0m\u001b[0;34m)\u001b[0m\u001b[0;34m\u001b[0m\u001b[0;34m\u001b[0m\u001b[0m\n",
      "\u001b[0;31mKeyboardInterrupt\u001b[0m: "
     ]
    }
   ],
   "source": [
    "# list(model.grid.get_relation(model.grid.agents[0], \"touches\"))\n",
    "list(model.grid.get_neighbors_within_distance(model.grid.agents[0], 100))"
   ]
  },
  {
   "cell_type": "code",
   "execution_count": null,
   "metadata": {},
   "outputs": [],
   "source": []
  }
 ]
}